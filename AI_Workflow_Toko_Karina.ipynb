{
  "nbformat": 4,
  "nbformat_minor": 0,
  "metadata": {
    "colab": {
      "provenance": [],
      "authorship_tag": "ABX9TyNlkQhI3mVQoXzaUILOB1rK",
      "include_colab_link": true
    },
    "kernelspec": {
      "name": "python3",
      "display_name": "Python 3"
    },
    "language_info": {
      "name": "python"
    }
  },
  "cells": [
    {
      "cell_type": "markdown",
      "metadata": {
        "id": "view-in-github",
        "colab_type": "text"
      },
      "source": [
        "<a href=\"https://colab.research.google.com/github/karinaismayacantik8/Praktkum_AI_Workflow/blob/main/AI_Workflow_Toko_Karina.ipynb\" target=\"_parent\"><img src=\"https://colab.research.google.com/assets/colab-badge.svg\" alt=\"Open In Colab\"/></a>"
      ]
    },
    {
      "cell_type": "code",
      "execution_count": 1,
      "metadata": {
        "colab": {
          "base_uri": "https://localhost:8080/"
        },
        "id": "a7Hh38sxwR2f",
        "outputId": "b7dca5b9-b604-4a0b-efc1-9fc9fc6005c1"
      },
      "outputs": [
        {
          "output_type": "stream",
          "name": "stdout",
          "text": [
            "   Unnamed: 0     Tanggal         Produk  Jumlah Terjual  Stok  Harga Satuan\n",
            "0           1  01/02/2025  Minyak Goreng              10    20         15000\n",
            "1           2  02/02/2025          Beras               5    15         12000\n",
            "2           3  03/02/2025           Gula               7     8         13000\n",
            "3           4  04/02/2025         Tepung               3    12         11000\n",
            "4           5  05/02/2025     Mie Instan              12    25          3000\n",
            "5           1  06/02/2025           Cabe              50    75          5000\n",
            "6           6  07/02/2025       Kangkung               4     9          3000\n",
            "7           7  08/02/2025           Susu              18    22          8000\n",
            "8           8  09/02/2025        Kentang              12    18          4000\n",
            "9           9  10/02/2025            Kol               6     7          6000\n"
          ]
        }
      ],
      "source": [
        "import pandas as pd\n",
        "\n",
        "# Membaca file CSV\n",
        "df = pd.read_csv(\"data_penjualan_latihan.csv\")\n",
        "\n",
        "# Menampilkan 5 data pertama\n",
        "print(df.head(10))"
      ]
    },
    {
      "cell_type": "code",
      "source": [
        "import pandas as pd\n",
        "\n",
        "# Cek apakah ada data yang kosong\n",
        "print(df.isnull().sum())\n",
        "\n",
        "# Konversi kolom \"Tanggal\" ke format datetime\n",
        "df[\"Tanggal\"] = pd.to_datetime(df[\"Tanggal\"])\n",
        "\n",
        "# Tambahkan kolom \"Total Penjualan\"\n",
        "df[\"Total Penjualan\"] = df[\"Jumlah Terjual\"] * df[\"Harga Satuan\"]\n",
        "\n",
        "# Tambahkan kolom \"Keuntungan\" (asumsi modal 10.000 per produk)\n",
        "df[\"Keuntungan\"] = df[\"Total Penjualan\"] - (df[\"Jumlah Terjual\"] * 10000)\n",
        "\n",
        "# Menampilkan hasil transformasi\n",
        "print(df.head(10))"
      ],
      "metadata": {
        "colab": {
          "base_uri": "https://localhost:8080/"
        },
        "id": "hhAjez4ww2YS",
        "outputId": "9c7de73c-ea16-457d-f49f-bbfbf25ef450"
      },
      "execution_count": 3,
      "outputs": [
        {
          "output_type": "stream",
          "name": "stdout",
          "text": [
            "Unnamed: 0         0\n",
            "Tanggal            0\n",
            "Produk             0\n",
            "Jumlah Terjual     0\n",
            "Stok               0\n",
            "Harga Satuan       0\n",
            "Total Penjualan    0\n",
            "Keuntungan         0\n",
            "dtype: int64\n",
            "   Unnamed: 0    Tanggal         Produk  Jumlah Terjual  Stok  Harga Satuan  \\\n",
            "0           1 2025-01-02  Minyak Goreng              10    20         15000   \n",
            "1           2 2025-02-02          Beras               5    15         12000   \n",
            "2           3 2025-03-02           Gula               7     8         13000   \n",
            "3           4 2025-04-02         Tepung               3    12         11000   \n",
            "4           5 2025-05-02     Mie Instan              12    25          3000   \n",
            "5           1 2025-06-02           Cabe              50    75          5000   \n",
            "6           6 2025-07-02       Kangkung               4     9          3000   \n",
            "7           7 2025-08-02           Susu              18    22          8000   \n",
            "8           8 2025-09-02        Kentang              12    18          4000   \n",
            "9           9 2025-10-02            Kol               6     7          6000   \n",
            "\n",
            "   Total Penjualan  Keuntungan  \n",
            "0           150000       50000  \n",
            "1            60000       10000  \n",
            "2            91000       21000  \n",
            "3            33000        3000  \n",
            "4            36000      -84000  \n",
            "5           250000     -250000  \n",
            "6            12000      -28000  \n",
            "7           144000      -36000  \n",
            "8            48000      -72000  \n",
            "9            36000      -24000  \n"
          ]
        }
      ]
    },
    {
      "cell_type": "code",
      "source": [
        " !pip install scikit-learn"
      ],
      "metadata": {
        "colab": {
          "base_uri": "https://localhost:8080/"
        },
        "id": "JOC8h9wn_tCd",
        "outputId": "152bb582-85fb-44b9-a58f-d4ae886df60d"
      },
      "execution_count": 1,
      "outputs": [
        {
          "output_type": "stream",
          "name": "stdout",
          "text": [
            "Requirement already satisfied: scikit-learn in /usr/local/lib/python3.11/dist-packages (1.6.1)\n",
            "Requirement already satisfied: numpy>=1.19.5 in /usr/local/lib/python3.11/dist-packages (from scikit-learn) (1.26.4)\n",
            "Requirement already satisfied: scipy>=1.6.0 in /usr/local/lib/python3.11/dist-packages (from scikit-learn) (1.13.1)\n",
            "Requirement already satisfied: joblib>=1.2.0 in /usr/local/lib/python3.11/dist-packages (from scikit-learn) (1.4.2)\n",
            "Requirement already satisfied: threadpoolctl>=3.1.0 in /usr/local/lib/python3.11/dist-packages (from scikit-learn) (3.5.0)\n"
          ]
        }
      ]
    },
    {
      "cell_type": "code",
      "source": [
        "from sklearn.model_selection import train_test_split\n",
        "from sklearn.tree import DecisionTreeClassifier\n",
        "from sklearn.metrics import accuracy_score\n",
        "\n",
        "# Pilih fitur (X) dan target (y)\n",
        "X = df[[\"Jumlah Terjual\", \"Stok\"]]\n",
        "y = (df[\"Stok\"] < 5).astype(int)  # 1 jika stok kurang dari 5, 0 jika cukup\n",
        "\n",
        "# Split data menjadi train dan test\n",
        "X_train, X_test, y_train, y_test = train_test_split(X, y, test_size=0.2, random_state=42)\n",
        "\n",
        "# Buat model Decision Tree\n",
        "model = DecisionTreeClassifier()\n",
        "model.fit(X_train, y_train)\n",
        "\n",
        "# Evaluasi model\n",
        "y_pred = model.predict(X_test)\n",
        "print(\"Akurasi Model:\", accuracy_score(y_test, y_pred))"
      ],
      "metadata": {
        "colab": {
          "base_uri": "https://localhost:8080/"
        },
        "id": "Lo3Whm7SxFRU",
        "outputId": "0aab4798-d257-46d1-d751-df8727302d4f"
      },
      "execution_count": 4,
      "outputs": [
        {
          "output_type": "stream",
          "name": "stdout",
          "text": [
            "Akurasi Model: 1.0\n"
          ]
        }
      ]
    },
    {
      "cell_type": "code",
      "source": [
        "# Contoh produk baru (jumlah terjual 8, stok tersisa 3)\n",
        "produk_baru = [[8, 3]]\n",
        "prediksi = model.predict(produk_baru)\n",
        "\n",
        "if prediksi[0] == 1:\n",
        "    print(\"Produk perlu di-restock!\")\n",
        "else:\n",
        "    print(\"Stok masih cukup.\")"
      ],
      "metadata": {
        "colab": {
          "base_uri": "https://localhost:8080/"
        },
        "id": "qpGbZqBIxQWx",
        "outputId": "96849f83-0b51-4238-e115-812845ee52c4"
      },
      "execution_count": 5,
      "outputs": [
        {
          "output_type": "stream",
          "name": "stdout",
          "text": [
            "Stok masih cukup.\n"
          ]
        },
        {
          "output_type": "stream",
          "name": "stderr",
          "text": [
            "/usr/local/lib/python3.11/dist-packages/sklearn/utils/validation.py:2739: UserWarning: X does not have valid feature names, but DecisionTreeClassifier was fitted with feature names\n",
            "  warnings.warn(\n"
          ]
        }
      ]
    },
    {
      "cell_type": "code",
      "source": [
        "import matplotlib.pyplot as plt\n",
        "\n",
        "plt.scatter(df[\"Jumlah Terjual\"], df[\"Stok\"], c=df[\"Keuntungan\"], cmap=\"coolwarm\")\n",
        "plt.xlabel(\"Jumlah Terjual\")\n",
        "plt.ylabel(\"Stok\")\n",
        "plt.title(\"Analisis Penjualan dan Stok\")\n",
        "plt.colorbar(label=\"Keuntungan\")\n",
        "plt.show()"
      ],
      "metadata": {
        "colab": {
          "base_uri": "https://localhost:8080/",
          "height": 472
        },
        "id": "ZhWJNdYHxX7o",
        "outputId": "1c23f9b2-c3f0-4fad-bcab-c08eea022f70"
      },
      "execution_count": 6,
      "outputs": [
        {
          "output_type": "display_data",
          "data": {
            "text/plain": [
              "<Figure size 640x480 with 2 Axes>"
            ],
            "image/png": "[encoded data removed]"
          },
          "metadata": {}
        }
      ]
    }
  ]
}